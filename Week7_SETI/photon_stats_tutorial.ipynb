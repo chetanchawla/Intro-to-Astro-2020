{
 "cells": [
  {
   "cell_type": "markdown",
   "metadata": {},
   "source": [
    "# Signal Versus Noise -- Astronomy Edition\n",
    "\n",
    "Tutorial by Ellie Abrahams"
   ]
  },
  {
   "cell_type": "markdown",
   "metadata": {},
   "source": [
    "One of the cool parts of working in astronomy is how beautiful the universe is. You may have seen pictures like the following image of the globular cluster NGC 1898 taken by the Hubble Space Telescope.\n",
    "\n",
    "<img src=\"https://scitechdaily.com/images/Hubble-Views-Globular-Cluster-NGC-1898-777x764.jpg\" alt=\"drawing\" width=\"350\"/>"
   ]
  },
  {
   "cell_type": "markdown",
   "metadata": {},
   "source": [
    "However, public Hubble photos are carefully composed by stacking many exposures of the same field of view to remove all manner of noise. Furthermore, these images are taken in multiple filters to add the dimension of color, helping to further distinguish between individual stars. Despite all this, as we look towards the center of the cluster in this image, it can be hard to see where the smaller stars end and begin. How do we know when we're actually seeing a star (or any manner of astronomical object) and when we're actually seeing noise?"
   ]
  },
  {
   "cell_type": "markdown",
   "metadata": {},
   "source": [
    "This answer becomes even more complicated at lower resolutions with single exposures. We can clearly see the background noise in the following infrared image taken by the WISE survey (Figure from Kirkpatrick et al. 2013). \n",
    "\n",
    "<img src=\"https://ai2-s2-public.s3.amazonaws.com/figures/2017-08-08/f9ec1f98050b692fed4410f916232b9df1acdea1/20-Figure1-1.png\" alt=\"drawing\" width=\"450\"/>\n",
    "\n",
    "If we're trying to measure the [fluxes](https://en.wikipedia.org/wiki/Radiant_flux) of astronomical objects, how do we know that we are measuring correctly from noisy images?"
   ]
  },
  {
   "cell_type": "markdown",
   "metadata": {},
   "source": [
    "## Noise Sources\n",
    "\n",
    "There are multiple sources of noise in astronomical detections. In order to understand if our observation of a star (our signal) is significantly larger than the detected noise, we need to understand these noise sources.\n",
    "\n",
    "Typical telescopes have four main sources of noise. Three of these sources are due to our setup: thermal noise and readout noise from the electronics, and background noise from the atmosphere, light pollution, interstellar dust, zodiacal light and background stars and galaxies. Today we're going to focus specifically on the fourth type of noise, noise that comes from the star (or planet or galaxy) itself.\n",
    "\n",
    "Which leads us to our first question. Do you think stars emit light in a constant manner? Justify your answer with a couple of sentences."
   ]
  },
  {
   "cell_type": "code",
   "execution_count": null,
   "metadata": {},
   "outputs": [],
   "source": []
  },
  {
   "cell_type": "markdown",
   "metadata": {},
   "source": [
    "## Shot Noise"
   ]
  },
  {
   "cell_type": "markdown",
   "metadata": {},
   "source": [
    "You don't even need to wait until next week for the answer! Stars emit photons randomly. (If you're wondering why check out [this cool video](https://www.youtube.com/watch?v=Z-UO-RZBQ3U).) This means that photons arrive at our telescope with random spacing between each photon introducing noise, known as shot noise, into our measurements of stellar flux.\n",
    "\n",
    "This figure from S. Littlefair shows a model of photons arriving at our CCD detector.\n",
    "\n",
    "![](http://slittlefair.staff.shef.ac.uk/teaching/phy217/lectures/instruments/L14/files/small_4158.png)"
   ]
  },
  {
   "cell_type": "markdown",
   "metadata": {},
   "source": [
    "What is the count of the most photons arriving from the source per second? What is the least?"
   ]
  },
  {
   "cell_type": "code",
   "execution_count": null,
   "metadata": {},
   "outputs": [],
   "source": [
    "most_phot =\n",
    "least_phot ="
   ]
  },
  {
   "cell_type": "markdown",
   "metadata": {},
   "source": [
    "On average, how many photons are arriving from the source per second?"
   ]
  },
  {
   "cell_type": "code",
   "execution_count": null,
   "metadata": {},
   "outputs": [],
   "source": [
    "phot_av ="
   ]
  },
  {
   "cell_type": "markdown",
   "metadata": {},
   "source": [
    "If we observe our source for only one second, can we accurately measure the average photons/second?"
   ]
  },
  {
   "cell_type": "code",
   "execution_count": null,
   "metadata": {},
   "outputs": [],
   "source": []
  },
  {
   "cell_type": "markdown",
   "metadata": {},
   "source": [
    "We can see from the above figure though, that what we can measure most accurately is how many photons arrive each second. We know how many photons arrived between 0 and 1 second, between 1 and 2 seconds and so on. From these counts we calculate an imperfect measure of the average number of photons that arrive per second, within the limits of 5 seconds, because that is all we measured. To make further [inference](https://en.wikipedia.org/wiki/Statistical_inference) about the photon flux of our system we need to model the probability distribution of our photons. This will allow us to answer the following questions. How likely was our system to emit 7 photons per second? How about 2?"
   ]
  },
  {
   "cell_type": "markdown",
   "metadata": {},
   "source": [
    "## Poisson Distribution\n",
    "\n",
    "To recap the above section, when a star emits photons nearly constantly but at random, this means the photons reach us at a measurable constant rate (average photons/second) but that each photon arrives at a time independent and unrelated to the previous photon. You can think of this kind of like emails arriving in your inbox. You can count the average number of emails that you receive daily, but your cousin is sending you emails that are independent and unrelated to the emails that you recieve from Amazon. Both emails contribute to your overall average though.\n",
    "\n",
    "This kind of distribution is well understood, and is called a [Poisson Distribution](https://en.wikipedia.org/wiki/Poisson_distribution). A Poisson distribution describes a discrete event where the average time between events is known, but the exact timing of events is random, like photon arrival. \n",
    "\n",
    "We can set the average number of photons received in a chosen interval of time (like photons/second) to $N$. The Poisson distribution will then give us the probability of detecting $k$ photons in that same time interval.\n",
    "\n",
    "<p style=\"text-align: center;\">$P(k) = \\frac{N^{k}e^{-N}}{k!}$</p>\n",
    "\n",
    "Let's take a look at this distribution. Plot this distribution below. Test multiple values for $N$. What happens when $N$ is small, like 2 photons/second? What happens when $N$ is high?"
   ]
  },
  {
   "cell_type": "code",
   "execution_count": null,
   "metadata": {},
   "outputs": [],
   "source": [
    "import numpy as np\n",
    "import matplotlib.pyplot as plt\n",
    "from scipy.misc import factorial"
   ]
  },
  {
   "cell_type": "code",
   "execution_count": null,
   "metadata": {},
   "outputs": [],
   "source": [
    "#Make a plot of the Poisson Distribution here\n",
    "\n",
    "k = np.arange(0, 20, 0.1)\n",
    "distribution = #Poisson as a function of k\n",
    "\n",
    "#...\n",
    "\n",
    "# Note: As you make N higher, you will need to make the range of k larger\n",
    "# Why does this make sense considering the what N and k are?"
   ]
  },
  {
   "cell_type": "markdown",
   "metadata": {},
   "source": [
    "Notice that when you graph with the Poisson distribution, the larger that N becomes, the more it approaches the shape of a [Gaussian distribution](https://en.wikipedia.org/wiki/Normal_distribution). This is very handy for us, because Gaussians have very specific averages and standard deviations.\n",
    "\n",
    "Do you think that the stars have large $N$ or small $N$? Please justify your answer with a few sentences."
   ]
  },
  {
   "cell_type": "code",
   "execution_count": null,
   "metadata": {},
   "outputs": [],
   "source": []
  },
  {
   "cell_type": "markdown",
   "metadata": {},
   "source": [
    "Making the assumption that stars have large $N$, we can rely on our distribution being an (almost) Gaussian. This means that the most likely *true* average photon rate is $N$ (answering our question from the beginning) and that the uncertainty in this measurement -- ie the noise -- is $\\sqrt{N}$.\n",
    "\n",
    "This tells us the shot noise in our system!"
   ]
  },
  {
   "cell_type": "markdown",
   "metadata": {},
   "source": [
    "## Signal-to-Noise\n",
    "\n",
    "For the rest of this notebook, we are going to assume that we have a perfect detector (no thermal or readout noise) and an infinitely quiet background. Does this eliminate shot noise?"
   ]
  },
  {
   "cell_type": "code",
   "execution_count": null,
   "metadata": {},
   "outputs": [],
   "source": []
  },
  {
   "cell_type": "markdown",
   "metadata": {},
   "source": [
    "If you answered no above, you are correct! No matter how we perfect our observing conditions, we will still always have shot noise due to the method that stars produce and emit photons. This means we need to measure how much more sigificant our observation is than our noise. This will tell us how believable our observation is and is formally known as the signal-to-noise ratio.\n",
    "\n",
    "<p style=\"text-align: center;\">$SNR = \\frac{Signal}{Noise}$</p>"
   ]
  },
  {
   "cell_type": "markdown",
   "metadata": {},
   "source": [
    "Let's look at a star that is emiting 550,000 photons/second/cm$^2$. How many photons will hit our 1 m detector in a 15 second exposure?"
   ]
  },
  {
   "cell_type": "code",
   "execution_count": null,
   "metadata": {},
   "outputs": [],
   "source": []
  },
  {
   "cell_type": "markdown",
   "metadata": {},
   "source": [
    "In this next cell, plot how this signal changes with exposure time."
   ]
  },
  {
   "cell_type": "code",
   "execution_count": null,
   "metadata": {},
   "outputs": [],
   "source": [
    "t = np.arange(0, 100, 0.1)\n",
    "signal = #as a function of t\n",
    "\n",
    "# ..."
   ]
  },
  {
   "cell_type": "markdown",
   "metadata": {},
   "source": [
    "Now we have a function of how our signal changes over time! Is it better to observe an object for longer? Is there a good stopping point for length of exposure time?"
   ]
  },
  {
   "cell_type": "code",
   "execution_count": null,
   "metadata": {},
   "outputs": [],
   "source": []
  },
  {
   "cell_type": "markdown",
   "metadata": {},
   "source": [
    "But! We just measured how our signal changes with exposure time, but in reality, even with a perfect detector setup we still have shot noise. So we really need to know how $SNR$ changes with time. Using the same star as above, and assuming that our only noise comes from shot noise, plot how $SNR$ changes with exposure time in the cell below."
   ]
  },
  {
   "cell_type": "code",
   "execution_count": null,
   "metadata": {},
   "outputs": [],
   "source": []
  },
  {
   "cell_type": "markdown",
   "metadata": {},
   "source": [
    "Does the $SNR$ change at the same rate that signal does? How much longer should we expose to increase $SNR$ by a factor of 10?"
   ]
  },
  {
   "cell_type": "code",
   "execution_count": null,
   "metadata": {},
   "outputs": [],
   "source": []
  },
  {
   "cell_type": "markdown",
   "metadata": {},
   "source": [
    "What do you think this tells us about the sweet spot for exposure times?"
   ]
  },
  {
   "cell_type": "code",
   "execution_count": null,
   "metadata": {},
   "outputs": [],
   "source": []
  }
 ],
 "metadata": {
  "kernelspec": {
   "display_name": "Python 3",
   "language": "python",
   "name": "python3"
  },
  "language_info": {
   "codemirror_mode": {
    "name": "ipython",
    "version": 3
   },
   "file_extension": ".py",
   "mimetype": "text/x-python",
   "name": "python",
   "nbconvert_exporter": "python",
   "pygments_lexer": "ipython3",
   "version": "3.6.4"
  }
 },
 "nbformat": 4,
 "nbformat_minor": 2
}
