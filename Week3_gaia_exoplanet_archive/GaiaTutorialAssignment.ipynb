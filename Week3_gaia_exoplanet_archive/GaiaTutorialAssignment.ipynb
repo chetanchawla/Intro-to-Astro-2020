{
 "cells": [
  {
   "cell_type": "markdown",
   "metadata": {},
   "source": [
    "# Welcome to the Intro to Astronomy Research Gaia Data Release 2 (DR2) Tutorial.\n",
    "\n",
    "#### Originally written by Sarah Blunt, 2018. Updated by Aldo Panfichi, 2020\n",
    "\n",
    "### In this tutorial, you will:\n",
    "- learn about the Gaia DR2 Database and basic queries\n",
    "- learn about the Astronomical Data Query Language (ADQL)\n",
    "- use the Gaia DR2 Database to get Gaia parameters for the 10,000 closest stars\n",
    "- plot a color-magnitude diagram"
   ]
  },
  {
   "cell_type": "markdown",
   "metadata": {},
   "source": [
    "# 1. Tutorial\n",
    "\n",
    "### What is Gaia?\n",
    "\n",
    "Gaia is a mission led by the European Space Agency (ESA) to collect photometric, spectroscopic, and (primarily) astrometric data of Milky Way stars and some Solar System objects. The Gaia spacecraft (successor to the Hipparcos mission) was launched in 2013, and is expected to continue its mission until 2022. Gaia aims to put together by far the largest and most precise 3D space catalog to date, totalling approximately 1 billion astronomical objects - mainly stars, but also planets, comets, asteroids and quasars among others.\n",
    "\n",
    "Gaia data is made publicly available through periodic data releases. We will be working with the most recent release, DR2.\n",
    "Using the Gaia archive site, we can get data on the positions, brightnesses, distances, and more for millions of stars and make do various kinds of science and data visualization from them."
   ]
  },
  {
   "cell_type": "code",
   "execution_count": 1,
   "metadata": {},
   "outputs": [],
   "source": [
    "# First, let's get the imports out of the way.\n",
    "from IPython.display import HTML\n",
    "# numpy, for math\n",
    "import numpy as np\n",
    "\n",
    "# pandas, for data handling\n",
    "import pandas as pd\n",
    "pd.set_option('display.max_columns', None) # Display all of the columns of a DataFrame\n",
    "\n",
    "# matplotlib, for plotting\n",
    "import matplotlib.pyplot as plt\n",
    "\n",
    "# \"Magic command\" to make the plots appear *inline* in the notebook\n",
    "%matplotlib inline"
   ]
  },
  {
   "cell_type": "markdown",
   "metadata": {},
   "source": [
    "### Where do we get the data from?\n",
    "\n",
    "The Gaia archive can be found *HERE*: https://gea.esac.esa.int/archive/\n",
    "\n",
    "Click on \"Search\" in the top left. You will see a form you can fill out to query the database. This is the \"Basic\" search, done through a GUI, where you can fill in conditions of your search using drop-down menus.\n",
    "\n",
    "If you click on the \"Advanced (ADQL)\" tab at the top left, you will be able write your own, more complex query in an SQL-type language made for Gaia (the Astronomical Data Query Language). You'll probably have to do this for the assignment, but for now, let's learn how the basic query works."
   ]
  },
  {
   "cell_type": "markdown",
   "metadata": {},
   "source": [
    "### Basic Query\n",
    "\n",
    "1. Make sure you're on the Basic query page\n",
    "2. In the \"Name\" field type in \"Messier 5\". It should resolve the name. This will center our search on M5, a globular cluster in the constellation Serpens.\n",
    "3. To the right, put a \"3\" and then change the unit from \"arc sec\" to \"arc min\". This will tell the archive to search in a radius of 3 arcminutes around M5. There are 60 arcseconds in an arcminute, anda 60 arcminutes in a degree.\n",
    "4. At the bottom, change \"Max. number of results\" to 500. We're looking for the first 500 results.\n",
    "5. Click \"Submit Query\"\n",
    "6. You'll see a table pop up with the first 20 results from the query. At the bottom, change \"VOTable\" to \"csv\" and click \"Download results\". This will download a csv to your computer with the queried data in it.\n",
    "\n",
    "With this query, we are asking the Gaia server to get us the first 500 stars that are in a 3 arcsecond radius circle around the globular cluster M5.\n",
    "\n",
    "*You can always click on \"Show query in ADQL form\" below, to see what your basic query would look like in ADQL syntax!*"
   ]
  },
  {
   "cell_type": "code",
   "execution_count": 2,
   "metadata": {
    "scrolled": true
   },
   "outputs": [
    {
     "data": {
      "text/html": [
       "<div>\n",
       "<style scoped>\n",
       "    .dataframe tbody tr th:only-of-type {\n",
       "        vertical-align: middle;\n",
       "    }\n",
       "\n",
       "    .dataframe tbody tr th {\n",
       "        vertical-align: top;\n",
       "    }\n",
       "\n",
       "    .dataframe thead th {\n",
       "        text-align: right;\n",
       "    }\n",
       "</style>\n",
       "<table border=\"1\" class=\"dataframe\">\n",
       "  <thead>\n",
       "    <tr style=\"text-align: right;\">\n",
       "      <th></th>\n",
       "      <th>source_id</th>\n",
       "      <th>ra</th>\n",
       "      <th>ra_error</th>\n",
       "      <th>dec</th>\n",
       "      <th>dec_error</th>\n",
       "      <th>parallax</th>\n",
       "      <th>parallax_error</th>\n",
       "      <th>phot_g_mean_mag</th>\n",
       "      <th>bp_rp</th>\n",
       "      <th>radial_velocity</th>\n",
       "      <th>radial_velocity_error</th>\n",
       "      <th>phot_variable_flag</th>\n",
       "      <th>teff_val</th>\n",
       "      <th>a_g_val</th>\n",
       "    </tr>\n",
       "  </thead>\n",
       "  <tbody>\n",
       "    <tr>\n",
       "      <th>0</th>\n",
       "      <td>4421572868783602304</td>\n",
       "      <td>229.608260</td>\n",
       "      <td>0.451151</td>\n",
       "      <td>2.080235</td>\n",
       "      <td>0.755487</td>\n",
       "      <td>NaN</td>\n",
       "      <td>NaN</td>\n",
       "      <td>18.320505</td>\n",
       "      <td>NaN</td>\n",
       "      <td>NaN</td>\n",
       "      <td>NaN</td>\n",
       "      <td>NOT_AVAILABLE</td>\n",
       "      <td>NaN</td>\n",
       "      <td>NaN</td>\n",
       "    </tr>\n",
       "    <tr>\n",
       "      <th>1</th>\n",
       "      <td>4421573315458434816</td>\n",
       "      <td>229.661337</td>\n",
       "      <td>20.658777</td>\n",
       "      <td>2.095936</td>\n",
       "      <td>35.101277</td>\n",
       "      <td>NaN</td>\n",
       "      <td>NaN</td>\n",
       "      <td>18.712660</td>\n",
       "      <td>NaN</td>\n",
       "      <td>NaN</td>\n",
       "      <td>NaN</td>\n",
       "      <td>NOT_AVAILABLE</td>\n",
       "      <td>NaN</td>\n",
       "      <td>NaN</td>\n",
       "    </tr>\n",
       "    <tr>\n",
       "      <th>2</th>\n",
       "      <td>4421573212376895104</td>\n",
       "      <td>229.626614</td>\n",
       "      <td>2.232215</td>\n",
       "      <td>2.102885</td>\n",
       "      <td>3.039926</td>\n",
       "      <td>NaN</td>\n",
       "      <td>NaN</td>\n",
       "      <td>18.354128</td>\n",
       "      <td>NaN</td>\n",
       "      <td>NaN</td>\n",
       "      <td>NaN</td>\n",
       "      <td>NOT_AVAILABLE</td>\n",
       "      <td>NaN</td>\n",
       "      <td>NaN</td>\n",
       "    </tr>\n",
       "    <tr>\n",
       "      <th>3</th>\n",
       "      <td>4421572971862343296</td>\n",
       "      <td>229.623267</td>\n",
       "      <td>2.472374</td>\n",
       "      <td>2.089429</td>\n",
       "      <td>1.216912</td>\n",
       "      <td>NaN</td>\n",
       "      <td>NaN</td>\n",
       "      <td>18.066124</td>\n",
       "      <td>NaN</td>\n",
       "      <td>NaN</td>\n",
       "      <td>NaN</td>\n",
       "      <td>NOT_AVAILABLE</td>\n",
       "      <td>NaN</td>\n",
       "      <td>NaN</td>\n",
       "    </tr>\n",
       "    <tr>\n",
       "      <th>4</th>\n",
       "      <td>4421572044148629760</td>\n",
       "      <td>229.641719</td>\n",
       "      <td>10.074508</td>\n",
       "      <td>2.056986</td>\n",
       "      <td>2.576733</td>\n",
       "      <td>NaN</td>\n",
       "      <td>NaN</td>\n",
       "      <td>18.675959</td>\n",
       "      <td>NaN</td>\n",
       "      <td>NaN</td>\n",
       "      <td>NaN</td>\n",
       "      <td>NOT_AVAILABLE</td>\n",
       "      <td>NaN</td>\n",
       "      <td>NaN</td>\n",
       "    </tr>\n",
       "    <tr>\n",
       "      <th>...</th>\n",
       "      <td>...</td>\n",
       "      <td>...</td>\n",
       "      <td>...</td>\n",
       "      <td>...</td>\n",
       "      <td>...</td>\n",
       "      <td>...</td>\n",
       "      <td>...</td>\n",
       "      <td>...</td>\n",
       "      <td>...</td>\n",
       "      <td>...</td>\n",
       "      <td>...</td>\n",
       "      <td>...</td>\n",
       "      <td>...</td>\n",
       "      <td>...</td>\n",
       "    </tr>\n",
       "    <tr>\n",
       "      <th>495</th>\n",
       "      <td>4421573659053861760</td>\n",
       "      <td>229.624860</td>\n",
       "      <td>1.728649</td>\n",
       "      <td>2.125516</td>\n",
       "      <td>0.729241</td>\n",
       "      <td>NaN</td>\n",
       "      <td>NaN</td>\n",
       "      <td>19.538334</td>\n",
       "      <td>NaN</td>\n",
       "      <td>NaN</td>\n",
       "      <td>NaN</td>\n",
       "      <td>NOT_AVAILABLE</td>\n",
       "      <td>NaN</td>\n",
       "      <td>NaN</td>\n",
       "    </tr>\n",
       "    <tr>\n",
       "      <th>496</th>\n",
       "      <td>4421572765702679936</td>\n",
       "      <td>229.613214</td>\n",
       "      <td>20.141048</td>\n",
       "      <td>2.066509</td>\n",
       "      <td>34.143973</td>\n",
       "      <td>NaN</td>\n",
       "      <td>NaN</td>\n",
       "      <td>18.893099</td>\n",
       "      <td>NaN</td>\n",
       "      <td>NaN</td>\n",
       "      <td>NaN</td>\n",
       "      <td>NOT_AVAILABLE</td>\n",
       "      <td>NaN</td>\n",
       "      <td>NaN</td>\n",
       "    </tr>\n",
       "    <tr>\n",
       "      <th>497</th>\n",
       "      <td>4421571734910183808</td>\n",
       "      <td>229.642104</td>\n",
       "      <td>10.205198</td>\n",
       "      <td>2.034558</td>\n",
       "      <td>3.335645</td>\n",
       "      <td>NaN</td>\n",
       "      <td>NaN</td>\n",
       "      <td>20.514206</td>\n",
       "      <td>0.429529</td>\n",
       "      <td>NaN</td>\n",
       "      <td>NaN</td>\n",
       "      <td>NOT_AVAILABLE</td>\n",
       "      <td>NaN</td>\n",
       "      <td>NaN</td>\n",
       "    </tr>\n",
       "    <tr>\n",
       "      <th>498</th>\n",
       "      <td>4421572078507474048</td>\n",
       "      <td>229.658871</td>\n",
       "      <td>4.743102</td>\n",
       "      <td>2.058121</td>\n",
       "      <td>1.306261</td>\n",
       "      <td>NaN</td>\n",
       "      <td>NaN</td>\n",
       "      <td>19.973127</td>\n",
       "      <td>NaN</td>\n",
       "      <td>NaN</td>\n",
       "      <td>NaN</td>\n",
       "      <td>NOT_AVAILABLE</td>\n",
       "      <td>NaN</td>\n",
       "      <td>NaN</td>\n",
       "    </tr>\n",
       "    <tr>\n",
       "      <th>499</th>\n",
       "      <td>4421573074940325120</td>\n",
       "      <td>229.603786</td>\n",
       "      <td>1.852513</td>\n",
       "      <td>2.081690</td>\n",
       "      <td>1.470516</td>\n",
       "      <td>NaN</td>\n",
       "      <td>NaN</td>\n",
       "      <td>19.072618</td>\n",
       "      <td>NaN</td>\n",
       "      <td>NaN</td>\n",
       "      <td>NaN</td>\n",
       "      <td>NOT_AVAILABLE</td>\n",
       "      <td>NaN</td>\n",
       "      <td>NaN</td>\n",
       "    </tr>\n",
       "  </tbody>\n",
       "</table>\n",
       "<p>500 rows × 14 columns</p>\n",
       "</div>"
      ],
      "text/plain": [
       "               source_id          ra   ra_error       dec  dec_error  \\\n",
       "0    4421572868783602304  229.608260   0.451151  2.080235   0.755487   \n",
       "1    4421573315458434816  229.661337  20.658777  2.095936  35.101277   \n",
       "2    4421573212376895104  229.626614   2.232215  2.102885   3.039926   \n",
       "3    4421572971862343296  229.623267   2.472374  2.089429   1.216912   \n",
       "4    4421572044148629760  229.641719  10.074508  2.056986   2.576733   \n",
       "..                   ...         ...        ...       ...        ...   \n",
       "495  4421573659053861760  229.624860   1.728649  2.125516   0.729241   \n",
       "496  4421572765702679936  229.613214  20.141048  2.066509  34.143973   \n",
       "497  4421571734910183808  229.642104  10.205198  2.034558   3.335645   \n",
       "498  4421572078507474048  229.658871   4.743102  2.058121   1.306261   \n",
       "499  4421573074940325120  229.603786   1.852513  2.081690   1.470516   \n",
       "\n",
       "     parallax  parallax_error  phot_g_mean_mag     bp_rp  radial_velocity  \\\n",
       "0         NaN             NaN        18.320505       NaN              NaN   \n",
       "1         NaN             NaN        18.712660       NaN              NaN   \n",
       "2         NaN             NaN        18.354128       NaN              NaN   \n",
       "3         NaN             NaN        18.066124       NaN              NaN   \n",
       "4         NaN             NaN        18.675959       NaN              NaN   \n",
       "..        ...             ...              ...       ...              ...   \n",
       "495       NaN             NaN        19.538334       NaN              NaN   \n",
       "496       NaN             NaN        18.893099       NaN              NaN   \n",
       "497       NaN             NaN        20.514206  0.429529              NaN   \n",
       "498       NaN             NaN        19.973127       NaN              NaN   \n",
       "499       NaN             NaN        19.072618       NaN              NaN   \n",
       "\n",
       "     radial_velocity_error phot_variable_flag  teff_val  a_g_val  \n",
       "0                      NaN      NOT_AVAILABLE       NaN      NaN  \n",
       "1                      NaN      NOT_AVAILABLE       NaN      NaN  \n",
       "2                      NaN      NOT_AVAILABLE       NaN      NaN  \n",
       "3                      NaN      NOT_AVAILABLE       NaN      NaN  \n",
       "4                      NaN      NOT_AVAILABLE       NaN      NaN  \n",
       "..                     ...                ...       ...      ...  \n",
       "495                    NaN      NOT_AVAILABLE       NaN      NaN  \n",
       "496                    NaN      NOT_AVAILABLE       NaN      NaN  \n",
       "497                    NaN      NOT_AVAILABLE       NaN      NaN  \n",
       "498                    NaN      NOT_AVAILABLE       NaN      NaN  \n",
       "499                    NaN      NOT_AVAILABLE       NaN      NaN  \n",
       "\n",
       "[500 rows x 14 columns]"
      ]
     },
     "execution_count": 2,
     "metadata": {},
     "output_type": "execute_result"
    }
   ],
   "source": [
    "#Now we can read the csv file into a pandas database\n",
    "\n",
    "m5 = pd.read_csv('data/m5.csv')\n",
    "m5"
   ]
  },
  {
   "cell_type": "markdown",
   "metadata": {},
   "source": [
    "## Column Explanations"
   ]
  },
  {
   "cell_type": "markdown",
   "metadata": {},
   "source": [
    "mas = milli arc second\n",
    "\n",
    "ra : Right ascension (double, Angle[deg])\n",
    "    Barycentric right ascension $\\alpha$ of the source in ICRS at the reference epoch ref_epoch\n",
    "\n",
    "ra_error : Standard error of right ascension (double, Angle[mas]) \n",
    "    Standard error $\\sigma \\alpha ≡ \\sigma \\alpha \\cos \\delta$  of the right ascension of the source in ICRS at the reference epoch ref_epoch.\n",
    "\n",
    "dec : Declination (double, Angle[deg])\n",
    "    Barycentric declination $\\delta$ of the source in ICRS at the reference epoch ref_epoch\n",
    "\n",
    "dec_error : Standard error of declination (double, Angle[mas])\n",
    "    Standard error $\\sigma \\delta$ of the declination of the source in ICRS at the reference epoch ref_epoch \n",
    "    \n",
    "    \n",
    "### Complete data dictionary at: https://gea.esac.esa.int/archive/documentation/GDR2/Gaia_archive/chap_datamodel/sec_dm_main_tables/ssec_dm_gaia_source.html"
   ]
  },
  {
   "cell_type": "code",
   "execution_count": 3,
   "metadata": {},
   "outputs": [
    {
     "data": {
      "image/png": "[encoded data removed]",
      "text/plain": [
       "<Figure size 720x720 with 1 Axes>"
      ]
     },
     "metadata": {
      "needs_background": "light"
     },
     "output_type": "display_data"
    }
   ],
   "source": [
    "#Here are the results of our query plotted into ra/dec space\n",
    "\n",
    "fig = plt.figure(figsize = [10,10])\n",
    "plt.scatter(m5['ra'], m5['dec'])\n",
    "plt.plot(229.6375, 2.0811, 'ro') # I've plotted the coordinates of M5 in red\n",
    "\n",
    "plt.xlabel('right ascension ($\\degree$)')\n",
    "plt.ylabel('declination ($\\degree$)')\n",
    "plt.show()"
   ]
  },
  {
   "cell_type": "markdown",
   "metadata": {},
   "source": [
    "Confused about RA/Dec? Check out: https://skyandtelescope.org/astronomy-resources/right-ascension-declination-celestial-coordinates/\n",
    "\n",
    "### From mentioned link\n",
    "\n",
    "Every object in the sky has two numbers that fix its location called right ascension and declination, more generally referred to as the object's celestial coordinates. Declination corresponds to latitude and right ascension to longitude\n",
    "\n",
    "Viewed from Earth's equator, the celestial equator begins at the eastern horizon, passes directly overhead and drops down to the western horizon. Since we're inside a sphere, it would continue around the backside of the Earth as well.\n",
    "\n",
    "From mid-latitudes, the celestial equator stands midway between the horizon and overhead point, while from the poles the celestial equator encircles the horizon. Anything north of the celestial equator has a northerly declination, marked with a positive sign. Anything south of the equator has a negative declination written with a negative sign. For instance, Vega's declination is +38° 47′ 1″, while Alpha Centauri's is –60° 50′ 2″. One star is north of the celestial equator and the other south.\n",
    "\n",
    "<img src=\"RA and Dec.jpg\" title=\"Right Ascension and Declination\" alt=\"Here's Earth inside the big soccer ball. Declination (green) is measured in degrees north and south of the celestial equator. Right ascension, akin to longitude, is measured east from the equinox. The red circle is the Sun's apparent path around the sky, which defines the ecliptic. Tom Ruen CC BY-SA 3.0\" width=400/>\n",
    "\n",
    " Astronomers use the spot the Sun arrives at on the first day of spring, called the vernal equinox. Presently, it's located in the constellation of Pisces, the Fish. The sky can be treated as a clock, since it wheels by as Earth rotates, so the zero point of right ascension is called \"0h\" for \"zero hours.\" Unlike longitude, right ascension is measured in just one direction — east. Because there are 24 hours in a day, each hour of right ascension measured along the equator equals 1/24th of a circle (360° divided by 24) or 15°. That's a little more than one-half the width of the W-shaped constellation Cassiopeia.\n",
    "\n",
    "In keeping with right ascension's time theme, hours are subdivided into minutes and seconds, and are even written out as minutes (m) and seconds (s). Let take the North Star for example. Polaris is located at RA 2h 41m 39s, Dec. +89° 15′ 51″. Because the stars circle about the sky every 24 hours, right ascension or RA ranges from 0h to 24h. The star 29 Piscium, located immediately east of the equinox point is very close to 0h with an RA of 0h 01m 49s, while its neighbor, Omega (ω) Piscium, located just west of the equinox point, has an RA of 23h 59m 19s.\n",
    "\n",
    "The celestial coordinates also change (an effect called [precession](https://www-istp.gsfc.nasa.gov/stargaze/Sprecess.htm) which is a by-effect of wobble in Earth's axis (The cause of the precession is the equatorial bulge of the Earth, caused by the centrifugal force of the Earth's rotation which changes the Earth from a perfect sphere to a slightly flattened one, thicker across the equator. The attraction of the Moon and Sun on the bulge is then the \"nudge\" which makes the Earth precess). \n",
    "\n",
    "Recession causes the equinox points to drift westward at a rate of 50.3 arcseconds annually. As the equinox shifts, it drags the coordinate grid with it. That's why star catalogs and software programs have to be updated regularly to the latest \"epoch.\" This is done every 50 years. Most catalogs and software currently use Epoch J2000.0 coordinates (for the year 2000). The next major update will happen in 2050."
   ]
  },
  {
   "cell_type": "markdown",
   "metadata": {},
   "source": [
    "### A slightly more advanced query\n",
    "\n",
    "1. Make sure you're on the Basic query page\n",
    "2. In the \"Name\" field type in \"Messier 92\". It should resolve the name. This will center our search on M92, a globular cluster in the northern constellation of Hercules.\n",
    "3. To the right, put a \"1\" and then change the unit from \"arc sec\" to \"degree\". This will tell the archive to search in a radius of 1 degree around M92.\n",
    "4. Under \"Extra Conditions\" you can add conditions to filter your data by. For example, say we wanted to look for close stars (say, with parallaxes greater than 5) with well-resolved parallax measurements (so the error in parallax is no larger than, say, 1/20th of the parallax value). In this example, we could do this by adding a condition that says \"parallax\" >= 5, and another condition to say \"parallax_over_error\" >= 20.\n",
    "5. Under \"Display Columns\" you can pick and choose what data you wish to query the archive for. For example, say we want to take data on proper motions, but are not very interested in photometric data. In this example, under \"Display Columns\" we could add a checkmark to pmra and pmdec (proper motion), and uncheck other columns we don't need.\n",
    "6. Play around with the conditions and columns you want!\n",
    "7. Click \"Submit Query\"\n",
    "8. You'll see a table pop up with the first 20 results from the query. At the bottom, change \"VOTable\" to \"csv\" and click \"Download results\". This will download a csv to your computer with the queried data in it.\n",
    "\n",
    "\n",
    "In the above example, we would be asking the Gaia server to get us the stars that are in a 1 degree radius circle in the sky, centered around the globular cluster M92, that have a parallax greater than or equal to 5 and the parallax divded by its error greater than 20 (say we want very precise measurements of distance, which is just 1/parallax). We can also say we only care to make astrometric measurements right now, so we don't care about any photometric datapoints such as colors or magnitudes.\n",
    "\n",
    "*You can always click on \"Show query in ADQL form\" below, to see what your basic query would look like in ADQL syntax!*\n",
    "\n",
    "Play around with your data and matplotlib. What interesting things can you find?"
   ]
  },
  {
   "cell_type": "code",
   "execution_count": 4,
   "metadata": {},
   "outputs": [
    {
     "data": {
      "image/png": "[encoded data removed]",
      "text/plain": [
       "<Figure size 720x720 with 1 Axes>"
      ]
     },
     "metadata": {
      "needs_background": "light"
     },
     "output_type": "display_data"
    }
   ],
   "source": [
    "#For example, let's repeat the above plot\n",
    "m92 = pd.read_csv('data/m92.csv') # I renamed my csv file to 'm92.csv'\n",
    "\n",
    "fig = plt.figure(figsize = [10,10])\n",
    "plt.scatter(m92['ra'], m92['dec'])\n",
    "plt.plot(259.2833, 43.1358, 'ro') # I've plotted the coordinates of M92 in red\n",
    "\n",
    "plt.xlabel('ra (deg)')\n",
    "plt.ylabel('dec (deg)')\n",
    "plt.show()"
   ]
  },
  {
   "cell_type": "code",
   "execution_count": 5,
   "metadata": {},
   "outputs": [
    {
     "data": {
      "image/png": "[encoded data removed]",
      "text/plain": [
       "<Figure size 720x360 with 2 Axes>"
      ]
     },
     "metadata": {
      "needs_background": "light"
     },
     "output_type": "display_data"
    }
   ],
   "source": [
    "#Another example, let's take a quick & dirty look at the distribution of proper motions\n",
    "fig, (ax1, ax2) = plt.subplots(1, 2, figsize=(10,5), sharey=True)\n",
    "ax1.hist(m92['pmra'], label=\"PM_RA\", color=\"r\")\n",
    "ax2.hist(m92['pmdec'], label=\"PM_DEC\", color=\"g\")\n",
    "\n",
    "ax1.set_ylabel('count')\n",
    "ax1.set_xlabel('proper motion (mas/yr)')#milliarc second per year\n",
    "ax2.set_xlabel('proper motion (mas/yr)')\n",
    "\n",
    "ax1.legend(loc=\"best\", fontsize=14, numpoints=1)\n",
    "ax2.legend(loc=\"best\", fontsize=14, numpoints=1)\n",
    "plt.show()"
   ]
  },
  {
   "cell_type": "code",
   "execution_count": 6,
   "metadata": {},
   "outputs": [
    {
     "data": {
      "text/plain": [
       "Text(0, 0.5, 'PM_DEC (mas/yr)')"
      ]
     },
     "execution_count": 6,
     "metadata": {},
     "output_type": "execute_result"
    },
    {
     "data": {
      "image/png": "[encoded data removed]",
      "text/plain": [
       "<Figure size 720x720 with 1 Axes>"
      ]
     },
     "metadata": {
      "needs_background": "light"
     },
     "output_type": "display_data"
    }
   ],
   "source": [
    "#A proper motion plot\n",
    "fig = plt.figure(figsize = [10,10])\n",
    "plt.scatter(m92['pmra'], m92['pmdec'])\n",
    "plt.plot(259.2833, 43.1358, 'ro') # I've plotted the coordinates of M92 in red\n",
    "\n",
    "plt.xlabel('PM_RA (mas/yr)')\n",
    "plt.ylabel('PM_DEC (mas/yr)')"
   ]
  },
  {
   "cell_type": "markdown",
   "metadata": {},
   "source": [
    "### Querying with ADQL:\n",
    "ADQL is a data query language similar to SQL, built for astronomical data purposes in mind. Its syntax is similar enough to SQL if you are familiar with it, though with some differences. We're going to look at a very simple ADQL query in this tutorial.\n",
    "#### To learn more about ADQL syntax, see the links under Assignment, below\n",
    "\n",
    "What do we want from this query? Let's select the 100 stars closest to Earth (so, with the largest parallaxes). The syntax for this query goes as follows:"
   ]
  },
  {
   "cell_type": "markdown",
   "metadata": {},
   "source": [
    "We select the top 100 results:"
   ]
  },
  {
   "cell_type": "raw",
   "metadata": {},
   "source": [
    "SELECT TOP 100"
   ]
  },
  {
   "cell_type": "markdown",
   "metadata": {},
   "source": [
    "...and the following columns:"
   ]
  },
  {
   "cell_type": "raw",
   "metadata": {},
   "source": [
    "gaia_source.source_id,gaia_source.ra,gaia_source.ra_error,gaia_source.dec,gaia_source.dec_error,gaia_source.parallax,gaia_source.parallax_error"
   ]
  },
  {
   "cell_type": "markdown",
   "metadata": {},
   "source": [
    "...from the DR2 Source catalog:"
   ]
  },
  {
   "cell_type": "raw",
   "metadata": {},
   "source": [
    "FROM gaiadr2.gaia_source"
   ]
  },
  {
   "cell_type": "markdown",
   "metadata": {},
   "source": [
    "...where the parallax is greater than 0 (to avoid issues with improperly catalogued parallaxes):"
   ]
  },
  {
   "cell_type": "raw",
   "metadata": {},
   "source": [
    "WHERE gaia_source.parallax >= 0"
   ]
  },
  {
   "cell_type": "markdown",
   "metadata": {},
   "source": [
    "...and the results are in descending order, by parallax:"
   ]
  },
  {
   "cell_type": "raw",
   "metadata": {},
   "source": [
    "ORDER BY gaia_source.parallax DESC"
   ]
  },
  {
   "cell_type": "markdown",
   "metadata": {},
   "source": [
    "Putting the whole query together:"
   ]
  },
  {
   "cell_type": "raw",
   "metadata": {},
   "source": [
    "SELECT TOP 100 gaia_source.source_id,gaia_source.ra,gaia_source.ra_error,gaia_source.dec,gaia_source.dec_error,gaia_source.parallax,gaia_source.parallax_error\n",
    "FROM gaiadr2.gaia_source\n",
    "WHERE gaia_source.parallax >= 0\n",
    "ORDER BY gaia_source.parallax DESC"
   ]
  },
  {
   "cell_type": "code",
   "execution_count": 7,
   "metadata": {},
   "outputs": [
    {
     "data": {
      "text/html": [
       "<div>\n",
       "<style scoped>\n",
       "    .dataframe tbody tr th:only-of-type {\n",
       "        vertical-align: middle;\n",
       "    }\n",
       "\n",
       "    .dataframe tbody tr th {\n",
       "        vertical-align: top;\n",
       "    }\n",
       "\n",
       "    .dataframe thead th {\n",
       "        text-align: right;\n",
       "    }\n",
       "</style>\n",
       "<table border=\"1\" class=\"dataframe\">\n",
       "  <thead>\n",
       "    <tr style=\"text-align: right;\">\n",
       "      <th></th>\n",
       "      <th>source_id</th>\n",
       "      <th>ra</th>\n",
       "      <th>ra_error</th>\n",
       "      <th>dec</th>\n",
       "      <th>dec_error</th>\n",
       "      <th>parallax</th>\n",
       "      <th>parallax_error</th>\n",
       "    </tr>\n",
       "  </thead>\n",
       "  <tbody>\n",
       "    <tr>\n",
       "      <th>0</th>\n",
       "      <td>4062964299525805952</td>\n",
       "      <td>272.237829</td>\n",
       "      <td>1.276152</td>\n",
       "      <td>-27.645916</td>\n",
       "      <td>0.830618</td>\n",
       "      <td>1851.882140</td>\n",
       "      <td>1.285094</td>\n",
       "    </tr>\n",
       "    <tr>\n",
       "      <th>1</th>\n",
       "      <td>4065202424204492928</td>\n",
       "      <td>274.906872</td>\n",
       "      <td>1.251748</td>\n",
       "      <td>-25.255882</td>\n",
       "      <td>1.571499</td>\n",
       "      <td>1847.433349</td>\n",
       "      <td>1.874937</td>\n",
       "    </tr>\n",
       "    <tr>\n",
       "      <th>2</th>\n",
       "      <td>4051942623265668864</td>\n",
       "      <td>276.223193</td>\n",
       "      <td>0.682959</td>\n",
       "      <td>-27.140479</td>\n",
       "      <td>0.500750</td>\n",
       "      <td>1686.265958</td>\n",
       "      <td>1.473535</td>\n",
       "    </tr>\n",
       "    <tr>\n",
       "      <th>3</th>\n",
       "      <td>4048978992784308992</td>\n",
       "      <td>273.112421</td>\n",
       "      <td>1.092637</td>\n",
       "      <td>-31.184670</td>\n",
       "      <td>1.362824</td>\n",
       "      <td>1634.283354</td>\n",
       "      <td>1.971231</td>\n",
       "    </tr>\n",
       "    <tr>\n",
       "      <th>4</th>\n",
       "      <td>4059168373166457472</td>\n",
       "      <td>259.297177</td>\n",
       "      <td>1.640748</td>\n",
       "      <td>-30.486547</td>\n",
       "      <td>2.069445</td>\n",
       "      <td>1513.989051</td>\n",
       "      <td>2.868580</td>\n",
       "    </tr>\n",
       "    <tr>\n",
       "      <th>...</th>\n",
       "      <td>...</td>\n",
       "      <td>...</td>\n",
       "      <td>...</td>\n",
       "      <td>...</td>\n",
       "      <td>...</td>\n",
       "      <td>...</td>\n",
       "      <td>...</td>\n",
       "    </tr>\n",
       "    <tr>\n",
       "      <th>95</th>\n",
       "      <td>4049284794374737536</td>\n",
       "      <td>272.676884</td>\n",
       "      <td>1.471668</td>\n",
       "      <td>-30.365627</td>\n",
       "      <td>1.304796</td>\n",
       "      <td>635.891449</td>\n",
       "      <td>1.723768</td>\n",
       "    </tr>\n",
       "    <tr>\n",
       "      <th>96</th>\n",
       "      <td>4038950244078680832</td>\n",
       "      <td>271.127604</td>\n",
       "      <td>1.478231</td>\n",
       "      <td>-35.445585</td>\n",
       "      <td>1.384748</td>\n",
       "      <td>632.099183</td>\n",
       "      <td>1.699712</td>\n",
       "    </tr>\n",
       "    <tr>\n",
       "      <th>97</th>\n",
       "      <td>4048896666737862656</td>\n",
       "      <td>273.411919</td>\n",
       "      <td>1.164029</td>\n",
       "      <td>-31.807867</td>\n",
       "      <td>0.961718</td>\n",
       "      <td>628.383496</td>\n",
       "      <td>1.281465</td>\n",
       "    </tr>\n",
       "    <tr>\n",
       "      <th>98</th>\n",
       "      <td>4048767474113708160</td>\n",
       "      <td>272.760347</td>\n",
       "      <td>0.980236</td>\n",
       "      <td>-32.282528</td>\n",
       "      <td>1.203943</td>\n",
       "      <td>627.809905</td>\n",
       "      <td>2.083120</td>\n",
       "    </tr>\n",
       "    <tr>\n",
       "      <th>99</th>\n",
       "      <td>4043959756432656384</td>\n",
       "      <td>269.300935</td>\n",
       "      <td>1.273085</td>\n",
       "      <td>-31.746367</td>\n",
       "      <td>1.225561</td>\n",
       "      <td>624.367801</td>\n",
       "      <td>1.433439</td>\n",
       "    </tr>\n",
       "  </tbody>\n",
       "</table>\n",
       "<p>100 rows × 7 columns</p>\n",
       "</div>"
      ],
      "text/plain": [
       "              source_id          ra  ra_error        dec  dec_error  \\\n",
       "0   4062964299525805952  272.237829  1.276152 -27.645916   0.830618   \n",
       "1   4065202424204492928  274.906872  1.251748 -25.255882   1.571499   \n",
       "2   4051942623265668864  276.223193  0.682959 -27.140479   0.500750   \n",
       "3   4048978992784308992  273.112421  1.092637 -31.184670   1.362824   \n",
       "4   4059168373166457472  259.297177  1.640748 -30.486547   2.069445   \n",
       "..                  ...         ...       ...        ...        ...   \n",
       "95  4049284794374737536  272.676884  1.471668 -30.365627   1.304796   \n",
       "96  4038950244078680832  271.127604  1.478231 -35.445585   1.384748   \n",
       "97  4048896666737862656  273.411919  1.164029 -31.807867   0.961718   \n",
       "98  4048767474113708160  272.760347  0.980236 -32.282528   1.203943   \n",
       "99  4043959756432656384  269.300935  1.273085 -31.746367   1.225561   \n",
       "\n",
       "       parallax  parallax_error  \n",
       "0   1851.882140        1.285094  \n",
       "1   1847.433349        1.874937  \n",
       "2   1686.265958        1.473535  \n",
       "3   1634.283354        1.971231  \n",
       "4   1513.989051        2.868580  \n",
       "..          ...             ...  \n",
       "95   635.891449        1.723768  \n",
       "96   632.099183        1.699712  \n",
       "97   628.383496        1.281465  \n",
       "98   627.809905        2.083120  \n",
       "99   624.367801        1.433439  \n",
       "\n",
       "[100 rows x 7 columns]"
      ]
     },
     "execution_count": 7,
     "metadata": {},
     "output_type": "execute_result"
    }
   ],
   "source": [
    "#Let's take a look at what this data looks like!\n",
    "closest = pd.read_csv('data/closest100-result.csv')\n",
    "closest"
   ]
  },
  {
   "cell_type": "markdown",
   "metadata": {},
   "source": [
    "# 2. Assignment\n",
    "\n",
    "### Notes:\n",
    "- Working with ADQL can be challenging, especially if you don't have experience with SQL or related query languages. If you spend too much time stuck on a task, post about it on Piazza (you can post anonymously if you want). An instructor will help you out! Don't struggle needlessly.\n",
    "- Make sure you complete the pandas and matplotlib tutorials before attempting this assignment."
   ]
  },
  {
   "cell_type": "markdown",
   "metadata": {},
   "source": [
    "### Learn More About ADQL\n",
    "\n",
    "- Navigate to the Gaia ADQL interface. First, go [here](https://gea.esac.esa.int/archive/). Click \"Search,\" then click \"Advanced (ADQL)\" (in the top left corner of the page). \n",
    "\n",
    "- Read [this webpage](https://gea.esac.esa.int/archive-help/adql/index.html). \n",
    "\n",
    "- Read slides 6-17 in [this powerpoint](https://www.cosmos.esa.int/documents/915837/915858/ADQL_handson_slides.pdf/652b9120-a3fe-4857-b5eb-933b476687ad).\n",
    "\n",
    "   Try out some of the commands for yourself in the Gaia ADQL search bar you opened in step 1. Using the buttons that pop up to the right of your query results, you can download the results or view them in your browser. Hover over the buttons to see what they do.\n",
    "\n",
    "   Don't worry if you don't understand everything in the powerpoint! Pick out the 7 most important slides and summarize them for yourself. \n",
    "   \n",
    "   ** Note: wherever the powerpoint uses \"gaiadr1.tgas_source,\" replace with \"gaiadr2.gaia_source.\""
   ]
  },
  {
   "cell_type": "markdown",
   "metadata": {},
   "source": [
    "# Use the Gaia DR2 Database to Get Gaia Parameters for the 10,000 Closest Stars"
   ]
  },
  {
   "cell_type": "markdown",
   "metadata": {},
   "source": [
    "### Write an ADQL query to get parameters of the 10,000 closest stars. Your query should return the following parameters:\n",
    "\n",
    "- BP - RP color (bp_rp in the Gaia database)\n",
    "\n",
    "_The photometry of a celestial source is generally performed by recording the incoming light on a detector after it has passed through an optical filter that selects a range of wavelengths. The BP and RP are Blue Photometers and Red Photometers, which tells the intensity of blue light and red light captured using photometry, and hence the bluer or the redder the star is. 0 -> bluer star and 3-> redder star_\n",
    "- absolute g-band photometric magnitude (you'll need to calculate this one)\n",
    "- distance\n",
    "\n",
    "### Download your Query Results as a csv file. \n",
    "\n",
    "### Hints:\n",
    "- Distance (in parsecs) is the inverse of parallax (in arcseconds). Keep an eye on units! Gaia by default shows parallaxes in milliarcseconds (mas) .\n",
    "- You can calculate absolute photometric magnitude in the gband using this formula: phot_g_mean_mag + 5 + 5 * log10(parallax/1000)\n",
    "- You'll need to use \"ORDER BY\" in your ADQL command.\n",
    "- Some Gaia sources have negative parallaxes due to instrumental imperfections. You'll need to add a line to your query specifying that parallax must be greater than 0. \n",
    "\n",
    "_The  processing  of  the  photometric  data  in  DR2  has  nottreated  blends  in  the  windows  of  the  blue  and  red  photome-ters  (BP  and  RP).  As  a  consequence,  the  measured  BP  andRP  fluxes  may  include  the  contribution  of  flux  from  nearbysources,  the  highest  impact  being  in  sky  areas  of  high  stel-lar  density,  such  as  the  inner  regions  of  globular  clusters,  theMagellanic  Clouds,  or  the  Galactic  Bulge.  During  the  valida-tion  process,  misdeterminations  of  the  local  background  havealso  been  identified.  In  some  cases,  this  background  is  dueto  nearby  bright  sources  with  long  wings  of  the  point  spreadfunction that have not been properly subtracted. In other cases,the background has a solar type spectrum, which indicates thatthe modelling of the background flux is not good enough. Thefaint sources are most strongly affected_\n",
    "- Using the buttons that pop up to the right of your query results, you can download the results or view them in your browser. Hover over the buttons to see what they do."
   ]
  },
  {
   "cell_type": "raw",
   "metadata": {},
   "source": [
    "SELECT TOP 100 \n",
    "gaia_source.source_id,gaia_source.ra,gaia_source.ra_error,gaia_source.dec,gaia_source.dec_error,gaia_source.parallax,gaia_source.parallax_error\n",
    "FROM gaiadr2.gaia_source\n",
    "WHERE gaia_source.parallax >= 0\n",
    "ORDER BY gaia_source.parallax DESC"
   ]
  },
  {
   "cell_type": "raw",
   "metadata": {},
   "source": [
    "SELECT TOP 10000 \n",
    "gaia_source.bp_rp, 1/(gaia_source.parallax/1000) as s_dist, \n",
    "gaia_source.phot_g_mean_mag + 5 + (5 * log10(gaia_source.parallax/1000)) as abs_gmag\n",
    "FROM gaiadr2.gaia_source\n",
    "WHERE gaia_source.parallax > 0\n",
    "ORDER BY gaia_source.parallax DESC"
   ]
  },
  {
   "cell_type": "raw",
   "metadata": {},
   "source": [
    "# Alternatively\n",
    "SELECT TOP 10000 \n",
    "gaia_source.bp_rp, 1/(gaia_source.parallax/1000) as s_dist, \n",
    "gaia_source.phot_g_mean_mag + 5 + (5 * log10(gaia_source.parallax/1000)) as abs_gmag\n",
    "FROM gaiadr2.gaia_source\n",
    "WHERE gaia_source.parallax > 0\n",
    "ORDER BY s_dist"
   ]
  },
  {
   "cell_type": "markdown",
   "metadata": {},
   "source": [
    "# Plot a Color-Magnitude Diagram of the 10,000 Closest Stars"
   ]
  },
  {
   "cell_type": "markdown",
   "metadata": {},
   "source": [
    "### 1. Using [pandas.read_csv](https://pandas.pydata.org/pandas-docs/stable/generated/pandas.read_csv.html), read your downloaded csv file into a pandas DataFrame"
   ]
  },
  {
   "cell_type": "code",
   "execution_count": 12,
   "metadata": {},
   "outputs": [
    {
     "name": "stdout",
     "output_type": "stream",
     "text": [
      "Populating the interactive namespace from numpy and matplotlib\n"
     ]
    }
   ],
   "source": [
    "import pandas as pd\n",
    "import matplotlib.pyplot as plt\n",
    "%pylab inline\n",
    "\n",
    "# Type your pd.read_csv command here: \n",
    "stellar=pd.read_csv('data/closest_10k-result.csv')\n",
    "# HINTS: \n",
    "# - make sure the jupyter notebook and your csv file are in the same directory\n",
    "# - your read_csv command should be 1 line of code"
   ]
  },
  {
   "cell_type": "markdown",
   "metadata": {},
   "source": [
    "### 2. Using matplotlib.pyplot, make a scatterplot of BP-RP color vs absolute g-band magnitude. This is a [color-magnitude diagram](https://en.wikipedia.org/wiki/Hertzsprung%E2%80%93Russell_diagram)! "
   ]
  },
  {
   "cell_type": "code",
   "execution_count": 58,
   "metadata": {},
   "outputs": [
    {
     "data": {
      "image/png": "[encoded data removed]",
      "text/plain": [
       "<Figure size 432x288 with 1 Axes>"
      ]
     },
     "metadata": {
      "needs_background": "light"
     },
     "output_type": "display_data"
    }
   ],
   "source": [
    "plt.figure()\n",
    "\n",
    "# Type your plotting code here:\n",
    "plt.scatter(stellar.bp_rp, stellar.abs_gmag, alpha=0.5, s=0.1, color='r')\n",
    "\n",
    "# More Fun Things to Try if You're Interested:\n",
    "# - use plt.ylim to reverse the direction of the y axis.\n",
    "plt.ylim(max(stellar.abs_gmag)+2,min(stellar.abs_gmag)-2)\n",
    "# - give your plot x and y labels.\n",
    "plt.xlabel('bp-rp mean magnitude')\n",
    "plt.ylabel('absolute g-band magnitude (luminosity)')\n",
    "# - make the points red\n",
    "#(Done above)\n",
    "# - make the 10 closest stars red\n",
    "stellar_trim=stellar[stellar.s_dist.notnull() & stellar.bp_rp.notnull() & stellar.abs_gmag.notnull()]\n",
    "stellar_top10=stellar_trim.head(10)\n",
    "plt.plot(stellar_top10.bp_rp, stellar_top10.abs_gmag, 'o', alpha=0.5, color='b')\n",
    "plt.savefig('bp_rp vs abs_gmag.png', dpi=300)"
   ]
  },
  {
   "cell_type": "markdown",
   "metadata": {},
   "source": [
    "BONUS: compare your results against Figure 1 in this [paper]{https://arxiv.org/pdf/1804.09378.pdf} \n",
    "- What similarities and differences do you notice? \n",
    "\n",
    "- __A: The intensity in the diagram matches the intensity of our graph (More stars in the same range) when we look at a cut out portion of our graph (Y is limited to ~15__\n",
    "\n",
    "- Challenge: read section 2.1 of this paper and try to reproduce their plot exactly."
   ]
  },
  {
   "cell_type": "raw",
   "metadata": {},
   "source": [
    "SELECT TOP 5 \n",
    "phot_g_mean_mag+5*log10(parallax)-10 AS mg, bp_rp \n",
    "FROM gaiadr2.gaia_source\n",
    "WHERE parallax_over_error > 10\n",
    "AND phot_g_mean_flux_over_error>50\n",
    "AND phot_rp_mean_flux_over_error>20\n",
    "AND phot_bp_mean_flux_over_error>20\n",
    "AND phot_bp_rp_excess_factor < 1.3+0.06*power(phot_bp_mean_mag-phot_rp_mean_mag,2)\n",
    "AND phot_bp_rp_excess_factor > 1.0+0.015*power(phot_bp_mean_mag-phot_rp_mean_mag,2)\n",
    "AND visibility_periods_used>8\n",
    "AND astrometric_chi2_al/(astrometric_n_good_obs_al-5)<1.44*greatest(1,exp(-0.4*(phot_g_mean_mag-19.5)))"
   ]
  },
  {
   "cell_type": "code",
   "execution_count": 126,
   "metadata": {
    "scrolled": true
   },
   "outputs": [
    {
     "data": {
      "image/png": "[encoded data removed]",
      "text/plain": [
       "<Figure size 432x288 with 2 Axes>"
      ]
     },
     "metadata": {
      "needs_background": "light"
     },
     "output_type": "display_data"
    }
   ],
   "source": [
    "challenge=pd.read_csv('data/challenge-result.csv')\n",
    "#Took help from https://github.com/rwk506/HessDiagram/blob/master/HessCMD.py\n",
    "\n",
    "### Use color and magnitude data to split and average into a binned 2D histogram\n",
    "heatmap, xedges, yedges = np.histogram2d(challenge.bp_rp,challenge.mg,bins=100)\n",
    "\n",
    "### Find the cell centers from the cell edges\n",
    "x = 0.5*(xedges[:-1] + xedges[1:])\n",
    "y = 0.5*(yedges[:-1] + yedges[1:])\n",
    "## Promote to 2D arrays\n",
    "Y, X = np.meshgrid(y, x)\n",
    "\n",
    "### Masked out values without data\n",
    "heatmap = np.ma.array(heatmap, mask=(heatmap==0))\n",
    "#From Paper: The colour scale rep-resents the square root of the relative density of stars.\n",
    "heatmap = np.sqrt(heatmap)\n",
    "cntr=plt.contourf(X,Y,heatmap,cmap=cm.hot)\n",
    "cntr.cmap.set_under('white')\n",
    "\n",
    "# ### Set plot limits as default or user-defined option\n",
    "xlim(-1,6)\n",
    "ylim(20,-5)\n",
    "plt.colorbar()\n",
    "\n",
    "savefig('heatmap.png',dpi=300)\n"
   ]
  }
 ],
 "metadata": {
  "kernelspec": {
   "display_name": "Python 3",
   "language": "python",
   "name": "python3"
  },
  "language_info": {
   "codemirror_mode": {
    "name": "ipython",
    "version": 3
   },
   "file_extension": ".py",
   "mimetype": "text/x-python",
   "name": "python",
   "nbconvert_exporter": "python",
   "pygments_lexer": "ipython3",
   "version": "3.6.9"
  }
 },
 "nbformat": 4,
 "nbformat_minor": 2
}
